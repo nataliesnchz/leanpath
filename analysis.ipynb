{
 "cells": [
  {
   "cell_type": "code",
   "execution_count": null,
   "metadata": {},
   "outputs": [],
   "source": [
    "## Import Packages\n",
    "import pandas as pd\n",
    "import numpy as np"
   ]
  },
  {
   "cell_type": "code",
   "execution_count": 7,
   "metadata": {},
   "outputs": [],
   "source": [
    "## Import Data \n",
    "browns_wastetrend = pd.read_csv(\"data/Browns_WasteTrend.csv\")\n",
    "cafe3_wastetrend = pd.read_csv(\"data/Cafe3_WasteTrend.csv\")\n",
    "ckc_wastetrend = pd.read_csv(\"data/CKC_WasteTrend.csv\")\n",
    "foothill_wastetrend = pd.read_csv(\"data/Foothill_WasteTrend.csv\")\n",
    "gbc_wastetrend = pd.read_csv(\"data/GBC_WasteTrend.csv\")\n",
    "xrds_wastetrend = pd.read_csv(\"data/XRDS_WasteTrend.csv\")\n"
   ]
  },
  {
   "cell_type": "code",
   "execution_count": 17,
   "metadata": {},
   "outputs": [
    {
     "name": "stdout",
     "output_type": "stream",
     "text": [
      "         Date  Value (USD)\n",
      "0  01/01/2024    160.14214\n",
      "1  01/08/2024    303.83060\n",
      "2  01/15/2024    382.76640\n",
      "3  01/22/2024    872.46080\n",
      "4  01/29/2024    617.63582\n",
      "Browns: Highest waste month is April with a value of 233.57438 USD\n",
      "Cafe 3: Highest waste month is September with a value of 2922.40476 USD\n",
      "CKC: Highest waste month is July with a value of 2756.99458 USD\n",
      "Foothill: Highest waste month is March with a value of 1629.94233 USD\n",
      "GBC: Highest waste month is February with a value of 518.43748 USD\n",
      "Crossroads: Highest waste month is February with a value of 2126.69469 USD\n"
     ]
    }
   ],
   "source": [
    "\n",
    "## Examine the data frame for Crossroads (XRDS)\n",
    "print(xrds_wastetrend.head())\n",
    "\n",
    "## Remove NA values\n",
    "waste_trends = [browns_wastetrend, cafe3_wastetrend, ckc_wastetrend, foothill_wastetrend, gbc_wastetrend, xrds_wastetrend]\n",
    "waste_trends = [df.dropna() for df in waste_trends]\n",
    "\n",
    "## Label the dining common names \n",
    "waste_trends = {\n",
    "    'Browns': browns_wastetrend,\n",
    "    'Cafe 3': cafe3_wastetrend,\n",
    "    'CKC': ckc_wastetrend,\n",
    "    'Foothill': foothill_wastetrend,\n",
    "    'GBC': gbc_wastetrend,\n",
    "    'Crossroads': xrds_wastetrend\n",
    "}\n",
    "\n",
    "\n",
    "def highest_waste_month(waste_trends):\n",
    "    for name, df in waste_trends.items():\n",
    "        df['Date'] = pd.to_datetime(df['Date'])\n",
    "        \n",
    "        # Identify the month with the highest waste for each dining common\n",
    "        max_row = df.loc[df['Value (USD)'].idxmax()]\n",
    "        \n",
    "        # Extract the month in a readable format\n",
    "        month = max_row['Date'].strftime('%B')  # e.g., 'January'\n",
    "        \n",
    "        # Print the result for each DataFrame\n",
    "        print(f\"{name}: Highest waste month is {month} with a value of {max_row['Value (USD)']} USD\")\n",
    "\n",
    "\n",
    "highest_waste_month(waste_trends)\n"
   ]
  },
  {
   "cell_type": "code",
   "execution_count": null,
   "metadata": {},
   "outputs": [],
   "source": []
  }
 ],
 "metadata": {
  "kernelspec": {
   "display_name": "leanpath",
   "language": "python",
   "name": "python3"
  },
  "language_info": {
   "codemirror_mode": {
    "name": "ipython",
    "version": 3
   },
   "file_extension": ".py",
   "mimetype": "text/x-python",
   "name": "python",
   "nbconvert_exporter": "python",
   "pygments_lexer": "ipython3",
   "version": "3.12.7"
  }
 },
 "nbformat": 4,
 "nbformat_minor": 2
}
