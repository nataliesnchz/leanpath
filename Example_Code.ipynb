{
 "cells": [
  {
   "cell_type": "markdown",
   "metadata": {},
   "source": [
    "# Example Code\n",
    "For those who have not used GitHub before, I created a sample code for a project examining the waste trends across the dining commons to examine which months were reported as having the highest waste. There are different commands and functions invovled in this code that can be useful to preview as you build your understanding of this platform. \n",
    "\n",
    "Additionally, there are four primary sections all Leanpath assignments will follow: Importing Packages, Importing Data, Coding Space, and Output. The output will be the main feature Amelia and I will refer to when you submit your assignments as the results of your findigns will be produced there. Please review the recording I have added to your drive to understand how to add code chunks, save your progress, and submit your assignment. \n",
    "\n",
    "## Importing Packages \n",
    "These packages allow you to run your code. Without these packages installed, you will experience errors even if the code syntax and command is correct. If you need additional packages, you can use this space to install them or add them to your code chunk in the 'Coding Space' section. "
   ]
  },
  {
   "cell_type": "code",
   "execution_count": 4,
   "metadata": {},
   "outputs": [
    {
     "name": "stderr",
     "output_type": "stream",
     "text": [
      "Matplotlib is building the font cache; this may take a moment.\n"
     ]
    }
   ],
   "source": [
    "## Import Packages\n",
    "import pandas as pd\n",
    "import numpy as np\n",
    "import matplotlib.pyplot as plt"
   ]
  },
  {
   "cell_type": "markdown",
   "metadata": {},
   "source": [
    "## Importing Data\n",
    "All data is extracted from Leanpath directly. Download the relevant data to your computer, then in the lefthand plane click on the 'New File' icon to add your data. Once it is added, be sure to import it to this assignment by assigning it to a vector. Below is an example of the waste trend data being assigned to a vector. "
   ]
  },
  {
   "cell_type": "code",
   "execution_count": 2,
   "metadata": {},
   "outputs": [],
   "source": [
    "## Import Data \n",
    "browns_wastetrend = pd.read_csv(\"data/Browns_WasteTrend.csv\")\n",
    "cafe3_wastetrend = pd.read_csv(\"data/Cafe3_WasteTrend.csv\")\n",
    "ckc_wastetrend = pd.read_csv(\"data/CKC_WasteTrend.csv\")\n",
    "foothill_wastetrend = pd.read_csv(\"data/Foothill_WasteTrend.csv\")\n",
    "gbc_wastetrend = pd.read_csv(\"data/GBC_WasteTrend.csv\")\n",
    "xrds_wastetrend = pd.read_csv(\"data/XRDS_WasteTrend.csv\")\n"
   ]
  },
  {
   "cell_type": "markdown",
   "metadata": {},
   "source": [
    "## Coding Space \n",
    "This is the section you will primarily be working in to build your code. You all will start off with one code chunk, but if you need to add another code chunk for organizational purposes, you can clikc the '+ Code' icon at the top to do so. We are working in python, so be sure to have the correct syntax for your commands. \n",
    "\n",
    "If you have previous experiece with other coding languages, such as R, the commands are fairly similar. You can use online resources such as ChatGPT and Claude to correctly format your code if you need assistance with Python. "
   ]
  },
  {
   "cell_type": "code",
   "execution_count": 5,
   "metadata": {},
   "outputs": [
    {
     "name": "stdout",
     "output_type": "stream",
     "text": [
      "         Date  Value (USD)\n",
      "0  01/01/2024    160.14214\n",
      "1  01/08/2024    303.83060\n",
      "2  01/15/2024    382.76640\n",
      "3  01/22/2024    872.46080\n",
      "4  01/29/2024    617.63582\n"
     ]
    }
   ],
   "source": [
    "\n",
    "## Examine the data frame for Crossroads (XRDS)\n",
    "print(xrds_wastetrend.head()) # <- printing the head allows you to see the first few rows of your data set \n",
    "\n",
    "## Remove NA values\n",
    "waste_trends = [browns_wastetrend, cafe3_wastetrend, ckc_wastetrend, foothill_wastetrend, gbc_wastetrend, xrds_wastetrend]\n",
    "waste_trends = [df.dropna() for df in waste_trends]\n",
    "\n",
    "## Label the dining common names \n",
    "waste_trends = {\n",
    "    'Browns': browns_wastetrend,\n",
    "    'Cafe 3': cafe3_wastetrend,\n",
    "    'CKC': ckc_wastetrend,\n",
    "    'Foothill': foothill_wastetrend,\n",
    "    'GBC': gbc_wastetrend,\n",
    "    'Crossroads': xrds_wastetrend\n",
    "}\n",
    "\n",
    "\n",
    "def highest_waste_month(waste_trends):\n",
    "    for name, df in waste_trends.items():\n",
    "        df['Date'] = pd.to_datetime(df['Date'])\n",
    "        \n",
    "        # Identify the month with the highest waste for each dining common\n",
    "        max_row = df.loc[df['Value (USD)'].idxmax()]\n",
    "        \n",
    "        # Extract the month in a readable format\n",
    "        month = max_row['Date'].strftime('%B')  # e.g., 'January'\n",
    "        \n",
    "        # Print the result for each DataFrame\n",
    "        print(f\"{name}: Highest waste month is {month} with a value of {max_row['Value (USD)']} USD\")\n",
    "\n"
   ]
  },
  {
   "cell_type": "markdown",
   "metadata": {},
   "source": [
    "## Output \n",
    "This is where all your findings will be produced in a readable format for Amelia and Natalie to gather the conclusions from your anaalysis. Please do not generate any new code in this section, as it is primarily used for graphs, summaries, and other relevant resources to displaay your code output. "
   ]
  },
  {
   "cell_type": "code",
   "execution_count": null,
   "metadata": {},
   "outputs": [
    {
     "name": "stdout",
     "output_type": "stream",
     "text": [
      "Browns: Highest waste month is April with a value of 233.57438 USD\n",
      "Cafe 3: Highest waste month is September with a value of 2922.40476 USD\n",
      "CKC: Highest waste month is July with a value of 2756.99458 USD\n",
      "Foothill: Highest waste month is March with a value of 1629.94233 USD\n",
      "GBC: Highest waste month is February with a value of 518.43748 USD\n",
      "Crossroads: Highest waste month is February with a value of 2126.69469 USD\n"
     ]
    }
   ],
   "source": [
    "## Sentences describing highest wsate per month across all dining commons \n",
    "highest_waste_month(waste_trends) ## <- this is the code output from the function created previously "
   ]
  }
 ],
 "metadata": {
  "kernelspec": {
   "display_name": "leanpath",
   "language": "python",
   "name": "python3"
  },
  "language_info": {
   "codemirror_mode": {
    "name": "ipython",
    "version": 3
   },
   "file_extension": ".py",
   "mimetype": "text/x-python",
   "name": "python",
   "nbconvert_exporter": "python",
   "pygments_lexer": "ipython3",
   "version": "3.12.7"
  }
 },
 "nbformat": 4,
 "nbformat_minor": 2
}
